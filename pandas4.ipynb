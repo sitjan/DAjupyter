{
 "cells": [
  {
   "cell_type": "code",
   "execution_count": 3,
   "id": "fdcca5c0-ce8f-4021-a8c0-1441d4b37ca8",
   "metadata": {},
   "outputs": [],
   "source": [
    "import pandas as pd\n",
    "import numpy as np\n",
    "\n",
    "df = pd.read_csv(\"datasets/minwage.csv\")\n",
    "act_min_wage = pd.DataFrame()\n",
    "\n",
    "for name, group in df.groupby(\"State\"):\n",
    "    if act_min_wage.empty:\n",
    "        act_min_wage = group.set_index(\"Year\")[[\"Department.Of.Labor.Cleaned.Low.Value.2020.Dollars\"]].rename(columns={\"Department.Of.Labor.Cleaned.Low.Value.2020.Dollars\":name})\n",
    "    else:\n",
    "        act_min_wage = act_min_wage.join(group.set_index(\"Year\")[[\"Department.Of.Labor.Cleaned.Low.Value.2020.Dollars\"]].rename(columns={\"Department.Of.Labor.Cleaned.Low.Value.2020.Dollars\":name}))\n",
    "\n",
    "act_min_wage.head()\n",
    "\n",
    "min_wage_corr = act_min_wage.replace(0,np.NaN).dropna(axis = 1).corr().head()"
   ]
  },
  {
   "cell_type": "code",
   "execution_count": null,
   "id": "35b72d2b-f1e2-4a8e-b1cf-3faa68cd8908",
   "metadata": {},
   "outputs": [],
   "source": []
  },
  {
   "cell_type": "code",
   "execution_count": null,
   "id": "8c39b455-53b1-4115-a831-9235b2026dfb",
   "metadata": {},
   "outputs": [],
   "source": []
  }
 ],
 "metadata": {
  "kernelspec": {
   "display_name": "Python 3 (ipykernel)",
   "language": "python",
   "name": "python3"
  },
  "language_info": {
   "codemirror_mode": {
    "name": "ipython",
    "version": 3
   },
   "file_extension": ".py",
   "mimetype": "text/x-python",
   "name": "python",
   "nbconvert_exporter": "python",
   "pygments_lexer": "ipython3",
   "version": "3.11.2"
  }
 },
 "nbformat": 4,
 "nbformat_minor": 5
}
